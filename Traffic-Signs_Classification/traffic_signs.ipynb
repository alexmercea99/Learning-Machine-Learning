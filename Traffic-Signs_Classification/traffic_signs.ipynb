{
 "cells": [
  {
   "cell_type": "code",
   "execution_count": 1,
   "source": [
    "import numpy as np\r\n",
    "import matplotlib.pyplot as plt\r\n",
    "import tensorflow.keras\r\n",
    "from tensorflow.keras.datasets import mnist\r\n",
    "from tensorflow.keras.models import Sequential\r\n",
    "from tensorflow.keras.layers import Dense\r\n",
    "from tensorflow.keras.optimizers import Adam\r\n",
    "from tensorflow.keras.utils import to_categorical\r\n",
    "from tensorflow.keras.layers import Flatten\r\n",
    "from tensorflow.keras.layers import Conv2D\r\n",
    "from tensorflow.keras.layers import MaxPooling2D\r\n",
    "from tensorflow.keras.layers import Dropout\r\n",
    "from tensorflow.keras.models import Model\r\n",
    "import random\r\n",
    "import pickle\r\n",
    "import pandas as pd"
   ],
   "outputs": [],
   "metadata": {}
  },
  {
   "cell_type": "code",
   "execution_count": 2,
   "source": [
    "np.random.seed(0)"
   ],
   "outputs": [],
   "metadata": {}
  },
  {
   "cell_type": "code",
   "execution_count": 3,
   "source": [
    "with open('german-traffic-signs/train.p', 'rb') as f:\r\n",
    "    train_data = pickle.load(f)\r\n",
    "\r\n",
    "with open('german-traffic-signs/valid.p', 'rb') as f:\r\n",
    "    val_data = pickle.load(f)\r\n",
    "\r\n",
    "with open('german-traffic-signs/test.p', 'rb') as f:\r\n",
    "    test_data = pickle.load(f)\r\n",
    "\r\n",
    "print(type(train_data))\r\n",
    "\r\n",
    "X_train, y_train = train_data['features'], train_data['labels']\r\n",
    "X_val, y_val = val_data['features'], val_data['labels']\r\n",
    "X_test, y_test = test_data['features'], test_data['labels']"
   ],
   "outputs": [
    {
     "output_type": "stream",
     "name": "stdout",
     "text": [
      "<class 'dict'>\n"
     ]
    }
   ],
   "metadata": {}
  },
  {
   "cell_type": "code",
   "execution_count": 4,
   "source": [
    "print(X_train.shape)\r\n",
    "print(X_val.shape)\r\n",
    "print(X_test.shape)"
   ],
   "outputs": [
    {
     "output_type": "stream",
     "name": "stdout",
     "text": [
      "(34799, 32, 32, 3)\n",
      "(4410, 32, 32, 3)\n",
      "(12630, 32, 32, 3)\n"
     ]
    }
   ],
   "metadata": {}
  },
  {
   "cell_type": "code",
   "execution_count": 5,
   "source": [
    "assert(X_train.shape[0] == y_train.shape[0])"
   ],
   "outputs": [],
   "metadata": {}
  },
  {
   "cell_type": "code",
   "execution_count": 6,
   "source": [
    "data = pd.read_csv('german-traffic-signs/signnames.csv')\r\n",
    "print(data)"
   ],
   "outputs": [
    {
     "output_type": "stream",
     "name": "stdout",
     "text": [
      "    ClassId                                           SignName\n",
      "0         0                               Speed limit (20km/h)\n",
      "1         1                               Speed limit (30km/h)\n",
      "2         2                               Speed limit (50km/h)\n",
      "3         3                               Speed limit (60km/h)\n",
      "4         4                               Speed limit (70km/h)\n",
      "5         5                               Speed limit (80km/h)\n",
      "6         6                        End of speed limit (80km/h)\n",
      "7         7                              Speed limit (100km/h)\n",
      "8         8                              Speed limit (120km/h)\n",
      "9         9                                         No passing\n",
      "10       10       No passing for vechiles over 3.5 metric tons\n",
      "11       11              Right-of-way at the next intersection\n",
      "12       12                                      Priority road\n",
      "13       13                                              Yield\n",
      "14       14                                               Stop\n",
      "15       15                                        No vechiles\n",
      "16       16           Vechiles over 3.5 metric tons prohibited\n",
      "17       17                                           No entry\n",
      "18       18                                    General caution\n",
      "19       19                        Dangerous curve to the left\n",
      "20       20                       Dangerous curve to the right\n",
      "21       21                                       Double curve\n",
      "22       22                                         Bumpy road\n",
      "23       23                                      Slippery road\n",
      "24       24                          Road narrows on the right\n",
      "25       25                                          Road work\n",
      "26       26                                    Traffic signals\n",
      "27       27                                        Pedestrians\n",
      "28       28                                  Children crossing\n",
      "29       29                                  Bicycles crossing\n",
      "30       30                                 Beware of ice/snow\n",
      "31       31                              Wild animals crossing\n",
      "32       32                End of all speed and passing limits\n",
      "33       33                                   Turn right ahead\n",
      "34       34                                    Turn left ahead\n",
      "35       35                                         Ahead only\n",
      "36       36                               Go straight or right\n",
      "37       37                                Go straight or left\n",
      "38       38                                         Keep right\n",
      "39       39                                          Keep left\n",
      "40       40                               Roundabout mandatory\n",
      "41       41                                  End of no passing\n",
      "42       42  End of no passing by vechiles over 3.5 metric ...\n"
     ]
    }
   ],
   "metadata": {}
  },
  {
   "cell_type": "code",
   "execution_count": 7,
   "source": [
    "num_of_samples = []\r\n",
    "\r\n",
    "cols = 5\r\n",
    "num_classes = 43\r\n",
    "\r\n",
    "fig, axs = plt.subplots(nrows=num_classes, ncols = cols, figsize=(5, 50))\r\n",
    "fig.tight_layout()\r\n",
    "for i in range(cols):\r\n",
    "    for j, row in data.iterrows():\r\n",
    "        x_selected = X_train[y_train == j]\r\n",
    "        axs[j][i].imshow(x_selected[random.randint(0, len(x_selected - 1)), :, :], cmap=plt.get_cmap(\"gray\"))\r\n",
    "        axs[j][i].axis(\"off\")\r\n",
    "        if i == 2:\r\n",
    "            axs[j][i].set_title(str(j) + '-' + row['SignName'])\r\n",
    "            num_of_samples.append(len(x_selected))\r\n",
    "\r\n",
    "    # (index, Series)"
   ],
   "outputs": [],
   "metadata": {}
  },
  {
   "cell_type": "code",
   "execution_count": null,
   "source": [
    "print(num_of_samples)\r\n",
    "plt.figure(figsize=(12, 4))\r\n",
    "plt.bar(range(0, num_classes), num_of_samples)\r\n",
    "plt.title(\"Distribution of the training dataset\")\r\n",
    "plt.xlabel(\"Class number\")\r\n",
    "plt.ylabel(\"Number of images\")"
   ],
   "outputs": [],
   "metadata": {}
  },
  {
   "cell_type": "code",
   "execution_count": null,
   "source": [
    "import cv2\r\n",
    "\r\n",
    "plt.imshow(X_train[1000])\r\n",
    "# plt.axis('off')\r\n",
    "print(X_train[1000].shape)\r\n",
    "print(y_train[1000])"
   ],
   "outputs": [],
   "metadata": {}
  },
  {
   "cell_type": "code",
   "execution_count": null,
   "source": [
    "def grayscale(img):\r\n",
    "    img = cv2.cvtColor(img, cv2.COLOR_BGR2GRAY)\r\n",
    "    return img\r\n",
    "\r\n",
    "img = grayscale(X_train[1000])\r\n",
    "plt.imshow(img)\r\n",
    "print(img.shape)\r\n"
   ],
   "outputs": [],
   "metadata": {}
  },
  {
   "cell_type": "code",
   "execution_count": null,
   "source": [
    "def equalize(img):\r\n",
    "    img = cv2.equalizeHist(img)\r\n",
    "    return img\r\n",
    "img = equalize(img)\r\n",
    "plt.imshow(img)\r\n",
    "print(img.shape)"
   ],
   "outputs": [],
   "metadata": {}
  },
  {
   "cell_type": "code",
   "execution_count": null,
   "source": [
    "def preprocessing(img):\r\n",
    "    img = grayscale(img)\r\n",
    "    img = equalize(img)\r\n",
    "    img = img/255\r\n",
    "    return img\r\n",
    "\r\n",
    "X_train = np.array(list(map(preprocessing, X_train)))\r\n",
    "X_val = np.array(list(map(preprocessing, X_val)))\r\n",
    "X_test = np.array(list(map(preprocessing, X_test)))"
   ],
   "outputs": [],
   "metadata": {}
  },
  {
   "cell_type": "code",
   "execution_count": null,
   "source": [
    "plt.imshow(X_train[random.randint(0, len(X_train) - 1)])\r\n",
    "print(X_train.shape)"
   ],
   "outputs": [],
   "metadata": {}
  },
  {
   "cell_type": "code",
   "execution_count": null,
   "source": [
    "X_train = X_train.reshape(34799,32,32, 1)\r\n",
    "X_val = X_val.reshape(4410,32,32, 1)\r\n",
    "X_test = X_test.reshape(12630,32,32, 1)"
   ],
   "outputs": [],
   "metadata": {}
  },
  {
   "cell_type": "code",
   "execution_count": null,
   "source": [
    "print(X_train.shape)\r\n",
    "print(X_val.shape)\r\n",
    "print(X_test.shape)"
   ],
   "outputs": [],
   "metadata": {}
  },
  {
   "cell_type": "code",
   "execution_count": null,
   "source": [
    "y_train = to_categorical(y_train, 43)\r\n",
    "y_test = to_categorical(y_test, 43)\r\n",
    "y_val = to_categorical(y_val, 43)"
   ],
   "outputs": [],
   "metadata": {}
  },
  {
   "cell_type": "code",
   "execution_count": null,
   "source": [
    "def leNet_model():\r\n",
    "    model = Sequential()\r\n",
    "    model.add(Conv2D(60,(5,5), input_shape=(32,32,1), activation='relu'))\r\n",
    "    model.add(Conv2D(60,(5,5), activation='relu'))\r\n",
    "    model.add(MaxPooling2D(pool_size=(2,2)))\r\n",
    "    model.add(Conv2D(30,(3,3),activation='relu'))\r\n",
    "    model.add(Conv2D(30,(3,3),activation='relu'))\r\n",
    "    model.add(MaxPooling2D(pool_size=(2,2)))\r\n",
    "    model.add(Dropout(0.5))\r\n",
    "    model.add(Flatten())\r\n",
    "    model.add(Dense(500,activation='relu'))\r\n",
    "    model.add(Dropout(0.5))\r\n",
    "    model.add(Dense(num_classes,activation='softmax'))\r\n",
    "\r\n",
    "    model.compile(Adam(learning_rate=0.001),loss='categorical_crossentropy',metrics=['accuracy'])\r\n",
    "    return model"
   ],
   "outputs": [],
   "metadata": {}
  },
  {
   "cell_type": "code",
   "execution_count": null,
   "source": [
    "model = leNet_model()\r\n",
    "print(model.summary())"
   ],
   "outputs": [],
   "metadata": {}
  },
  {
   "cell_type": "code",
   "execution_count": null,
   "source": [
    "history = model.fit(x=X_train,y=y_train, epochs=10, validation_data=(X_val,y_val), batch_size=500, verbose=1, shuffle=1)"
   ],
   "outputs": [],
   "metadata": {}
  },
  {
   "cell_type": "code",
   "execution_count": null,
   "source": [
    "plt.plot(history.history['loss'])\r\n",
    "plt.plot(history.history['val_loss'])\r\n",
    "plt.legend(['training','validation'])\r\n",
    "plt.title('Loss')\r\n",
    "plt.xlabel('epoch')"
   ],
   "outputs": [],
   "metadata": {}
  },
  {
   "cell_type": "code",
   "execution_count": null,
   "source": [
    "plt.plot(history.history['accuracy'])\r\n",
    "plt.plot(history.history['val_accuracy'])\r\n",
    "plt.legend(['training','validation'])\r\n",
    "plt.title('Accuracy')\r\n",
    "plt.xlabel('epoch')"
   ],
   "outputs": [],
   "metadata": {}
  }
 ],
 "metadata": {
  "orig_nbformat": 4,
  "language_info": {
   "name": "python",
   "version": "3.9.6",
   "mimetype": "text/x-python",
   "codemirror_mode": {
    "name": "ipython",
    "version": 3
   },
   "pygments_lexer": "ipython3",
   "nbconvert_exporter": "python",
   "file_extension": ".py"
  },
  "kernelspec": {
   "name": "python3",
   "display_name": "Python 3.9.6 64-bit ('general_env': conda)"
  },
  "interpreter": {
   "hash": "eb1063525ce892d0c528674b1c1740d987616fa50929a74996de9e0faa31f077"
  }
 },
 "nbformat": 4,
 "nbformat_minor": 2
}