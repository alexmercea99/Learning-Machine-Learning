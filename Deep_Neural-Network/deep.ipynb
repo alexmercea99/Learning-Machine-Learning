{
 "cells": [
  {
   "cell_type": "code",
   "execution_count": 99,
   "source": [
    "import numpy as np\r\n",
    "import matplotlib.pyplot as plt\r\n",
    "from sklearn import datasets\r\n",
    "from tensorflow.keras.models import Sequential\r\n",
    "from tensorflow.keras.layers import Dense\r\n",
    "from tensorflow.keras.optimizers import Adam\r\n",
    "\r\n"
   ],
   "outputs": [],
   "metadata": {}
  },
  {
   "cell_type": "code",
   "execution_count": 100,
   "source": [
    "np.random.seed(0)"
   ],
   "outputs": [],
   "metadata": {}
  },
  {
   "cell_type": "code",
   "execution_count": 101,
   "source": [
    "n_pts = 500\r\n",
    "X, y = datasets.make_circles(n_pts, random_state=123, noise=0.1, factor=0.2)"
   ],
   "outputs": [],
   "metadata": {}
  },
  {
   "cell_type": "code",
   "execution_count": 102,
   "source": [
    "plt.scatter(X[y==0, 0],X[y==0,1])\r\n",
    "plt.scatter(X[y==1,0], X[y==1,1])\r\n"
   ],
   "outputs": [
    {
     "output_type": "execute_result",
     "data": {
      "text/plain": [
       "<matplotlib.collections.PathCollection at 0x1d098c889d0>"
      ]
     },
     "metadata": {},
     "execution_count": 102
    },
    {
     "output_type": "display_data",
     "data": {
      "text/plain": [
       "<Figure size 432x288 with 1 Axes>"
      ],
      "image/png": "[encoded data removed]"
     },
     "metadata": {
      "needs_background": "light"
     }
    }
   ],
   "metadata": {}
  },
  {
   "cell_type": "code",
   "execution_count": 103,
   "source": [
    "model = Sequential()\r\n",
    "\r\n",
    "model.add(Dense(4, input_shape=(2,), activation='sigmoid'))\r\n",
    "model.add(Dense(1, activation='sigmoid'))\r\n",
    "model.compile(Adam(learning_rate=0.01), 'binary_crossentropy', metrics=['accuracy'])\r\n"
   ],
   "outputs": [],
   "metadata": {}
  },
  {
   "cell_type": "code",
   "execution_count": 104,
   "source": [
    "h = model.fit(x=X,y=y,batch_size=32, verbose=1, epochs=100, shuffle='true')"
   ],
   "outputs": [
    {
     "output_type": "stream",
     "name": "stdout",
     "text": [
      "Epoch 1/100\n",
      "16/16 [==============================] - 0s 1000us/step - loss: 0.7535 - accuracy: 0.5000\n",
      "Epoch 2/100\n",
      "16/16 [==============================] - 0s 933us/step - loss: 0.7052 - accuracy: 0.4860\n",
      "Epoch 3/100\n",
      "16/16 [==============================] - 0s 1000us/step - loss: 0.6921 - accuracy: 0.3480\n",
      "Epoch 4/100\n",
      "16/16 [==============================] - 0s 1000us/step - loss: 0.6920 - accuracy: 0.5600\n",
      "Epoch 5/100\n",
      "16/16 [==============================] - 0s 933us/step - loss: 0.6920 - accuracy: 0.5360\n",
      "Epoch 6/100\n",
      "16/16 [==============================] - 0s 1ms/step - loss: 0.6913 - accuracy: 0.6180\n",
      "Epoch 7/100\n",
      "16/16 [==============================] - 0s 933us/step - loss: 0.6908 - accuracy: 0.5580\n",
      "Epoch 8/100\n",
      "16/16 [==============================] - 0s 933us/step - loss: 0.6903 - accuracy: 0.4800\n",
      "Epoch 9/100\n",
      "16/16 [==============================] - 0s 1000us/step - loss: 0.6894 - accuracy: 0.5780\n",
      "Epoch 10/100\n",
      "16/16 [==============================] - 0s 1ms/step - loss: 0.6894 - accuracy: 0.6800\n",
      "Epoch 11/100\n",
      "16/16 [==============================] - 0s 1ms/step - loss: 0.6876 - accuracy: 0.5500\n",
      "Epoch 12/100\n",
      "16/16 [==============================] - 0s 1000us/step - loss: 0.6851 - accuracy: 0.5620\n",
      "Epoch 13/100\n",
      "16/16 [==============================] - 0s 1000us/step - loss: 0.6829 - accuracy: 0.6920\n",
      "Epoch 14/100\n",
      "16/16 [==============================] - 0s 934us/step - loss: 0.6801 - accuracy: 0.7000\n",
      "Epoch 15/100\n",
      "16/16 [==============================] - 0s 933us/step - loss: 0.6758 - accuracy: 0.6780\n",
      "Epoch 16/100\n",
      "16/16 [==============================] - 0s 1ms/step - loss: 0.6716 - accuracy: 0.6240\n",
      "Epoch 17/100\n",
      "16/16 [==============================] - 0s 933us/step - loss: 0.6638 - accuracy: 0.7200\n",
      "Epoch 18/100\n",
      "16/16 [==============================] - 0s 866us/step - loss: 0.6560 - accuracy: 0.7640\n",
      "Epoch 19/100\n",
      "16/16 [==============================] - 0s 867us/step - loss: 0.6452 - accuracy: 0.7900\n",
      "Epoch 20/100\n",
      "16/16 [==============================] - 0s 867us/step - loss: 0.6333 - accuracy: 0.8020\n",
      "Epoch 21/100\n",
      "16/16 [==============================] - 0s 867us/step - loss: 0.6191 - accuracy: 0.8340\n",
      "Epoch 22/100\n",
      "16/16 [==============================] - 0s 800us/step - loss: 0.6020 - accuracy: 0.8440\n",
      "Epoch 23/100\n",
      "16/16 [==============================] - 0s 867us/step - loss: 0.5836 - accuracy: 0.8500\n",
      "Epoch 24/100\n",
      "16/16 [==============================] - 0s 933us/step - loss: 0.5644 - accuracy: 0.8520\n",
      "Epoch 25/100\n",
      "16/16 [==============================] - 0s 933us/step - loss: 0.5433 - accuracy: 0.8600\n",
      "Epoch 26/100\n",
      "16/16 [==============================] - 0s 867us/step - loss: 0.5205 - accuracy: 0.8720\n",
      "Epoch 27/100\n",
      "16/16 [==============================] - 0s 867us/step - loss: 0.4980 - accuracy: 0.8900\n",
      "Epoch 28/100\n",
      "16/16 [==============================] - 0s 866us/step - loss: 0.4744 - accuracy: 0.9040\n",
      "Epoch 29/100\n",
      "16/16 [==============================] - 0s 867us/step - loss: 0.4509 - accuracy: 0.9220\n",
      "Epoch 30/100\n",
      "16/16 [==============================] - 0s 867us/step - loss: 0.4269 - accuracy: 0.9480\n",
      "Epoch 31/100\n",
      "16/16 [==============================] - 0s 867us/step - loss: 0.4046 - accuracy: 0.9780\n",
      "Epoch 32/100\n",
      "16/16 [==============================] - 0s 933us/step - loss: 0.3819 - accuracy: 0.9840\n",
      "Epoch 33/100\n",
      "16/16 [==============================] - 0s 933us/step - loss: 0.3607 - accuracy: 0.9920\n",
      "Epoch 34/100\n",
      "16/16 [==============================] - 0s 933us/step - loss: 0.3411 - accuracy: 0.9960\n",
      "Epoch 35/100\n",
      "16/16 [==============================] - 0s 866us/step - loss: 0.3216 - accuracy: 0.9980\n",
      "Epoch 36/100\n",
      "16/16 [==============================] - 0s 933us/step - loss: 0.3039 - accuracy: 0.9980\n",
      "Epoch 37/100\n",
      "16/16 [==============================] - 0s 933us/step - loss: 0.2878 - accuracy: 0.9980\n",
      "Epoch 38/100\n",
      "16/16 [==============================] - 0s 867us/step - loss: 0.2718 - accuracy: 0.9980\n",
      "Epoch 39/100\n",
      "16/16 [==============================] - 0s 933us/step - loss: 0.2574 - accuracy: 1.0000\n",
      "Epoch 40/100\n",
      "16/16 [==============================] - 0s 867us/step - loss: 0.2440 - accuracy: 1.0000\n",
      "Epoch 41/100\n",
      "16/16 [==============================] - 0s 933us/step - loss: 0.2318 - accuracy: 0.9980\n",
      "Epoch 42/100\n",
      "16/16 [==============================] - 0s 867us/step - loss: 0.2203 - accuracy: 0.9980\n",
      "Epoch 43/100\n",
      "16/16 [==============================] - 0s 933us/step - loss: 0.2097 - accuracy: 1.0000\n",
      "Epoch 44/100\n",
      "16/16 [==============================] - 0s 933us/step - loss: 0.1997 - accuracy: 1.0000\n",
      "Epoch 45/100\n",
      "16/16 [==============================] - 0s 867us/step - loss: 0.1905 - accuracy: 1.0000\n",
      "Epoch 46/100\n",
      "16/16 [==============================] - 0s 866us/step - loss: 0.1818 - accuracy: 1.0000\n",
      "Epoch 47/100\n",
      "16/16 [==============================] - 0s 933us/step - loss: 0.1738 - accuracy: 1.0000\n",
      "Epoch 48/100\n",
      "16/16 [==============================] - 0s 800us/step - loss: 0.1667 - accuracy: 0.9980\n",
      "Epoch 49/100\n",
      "16/16 [==============================] - 0s 867us/step - loss: 0.1593 - accuracy: 1.0000\n",
      "Epoch 50/100\n",
      "16/16 [==============================] - 0s 866us/step - loss: 0.1528 - accuracy: 1.0000\n",
      "Epoch 51/100\n",
      "16/16 [==============================] - 0s 933us/step - loss: 0.1467 - accuracy: 1.0000\n",
      "Epoch 52/100\n",
      "16/16 [==============================] - 0s 867us/step - loss: 0.1410 - accuracy: 1.0000\n",
      "Epoch 53/100\n",
      "16/16 [==============================] - 0s 800us/step - loss: 0.1356 - accuracy: 1.0000\n",
      "Epoch 54/100\n",
      "16/16 [==============================] - 0s 933us/step - loss: 0.1304 - accuracy: 1.0000\n",
      "Epoch 55/100\n",
      "16/16 [==============================] - 0s 933us/step - loss: 0.1256 - accuracy: 1.0000\n",
      "Epoch 56/100\n",
      "16/16 [==============================] - 0s 867us/step - loss: 0.1211 - accuracy: 1.0000\n",
      "Epoch 57/100\n",
      "16/16 [==============================] - 0s 867us/step - loss: 0.1167 - accuracy: 1.0000\n",
      "Epoch 58/100\n",
      "16/16 [==============================] - 0s 800us/step - loss: 0.1127 - accuracy: 1.0000\n",
      "Epoch 59/100\n",
      "16/16 [==============================] - 0s 867us/step - loss: 0.1090 - accuracy: 1.0000\n",
      "Epoch 60/100\n",
      "16/16 [==============================] - 0s 800us/step - loss: 0.1052 - accuracy: 1.0000\n",
      "Epoch 61/100\n",
      "16/16 [==============================] - 0s 933us/step - loss: 0.1018 - accuracy: 1.0000\n",
      "Epoch 62/100\n",
      "16/16 [==============================] - 0s 867us/step - loss: 0.0986 - accuracy: 1.0000\n",
      "Epoch 63/100\n",
      "16/16 [==============================] - 0s 867us/step - loss: 0.0956 - accuracy: 1.0000\n",
      "Epoch 64/100\n",
      "16/16 [==============================] - 0s 800us/step - loss: 0.0925 - accuracy: 1.0000\n",
      "Epoch 65/100\n",
      "16/16 [==============================] - 0s 867us/step - loss: 0.0896 - accuracy: 1.0000\n",
      "Epoch 66/100\n",
      "16/16 [==============================] - 0s 867us/step - loss: 0.0870 - accuracy: 1.0000\n",
      "Epoch 67/100\n",
      "16/16 [==============================] - 0s 867us/step - loss: 0.0844 - accuracy: 1.0000\n",
      "Epoch 68/100\n",
      "16/16 [==============================] - 0s 933us/step - loss: 0.0819 - accuracy: 1.0000\n",
      "Epoch 69/100\n",
      "16/16 [==============================] - 0s 867us/step - loss: 0.0796 - accuracy: 1.0000\n",
      "Epoch 70/100\n",
      "16/16 [==============================] - 0s 867us/step - loss: 0.0774 - accuracy: 1.0000\n",
      "Epoch 71/100\n",
      "16/16 [==============================] - 0s 867us/step - loss: 0.0753 - accuracy: 1.0000\n",
      "Epoch 72/100\n",
      "16/16 [==============================] - 0s 867us/step - loss: 0.0732 - accuracy: 1.0000\n",
      "Epoch 73/100\n",
      "16/16 [==============================] - 0s 867us/step - loss: 0.0713 - accuracy: 1.0000\n",
      "Epoch 74/100\n",
      "16/16 [==============================] - 0s 867us/step - loss: 0.0694 - accuracy: 1.0000\n",
      "Epoch 75/100\n",
      "16/16 [==============================] - 0s 867us/step - loss: 0.0676 - accuracy: 1.0000\n",
      "Epoch 76/100\n",
      "16/16 [==============================] - 0s 867us/step - loss: 0.0658 - accuracy: 1.0000\n",
      "Epoch 77/100\n",
      "16/16 [==============================] - 0s 933us/step - loss: 0.0642 - accuracy: 1.0000\n",
      "Epoch 78/100\n",
      "16/16 [==============================] - 0s 867us/step - loss: 0.0626 - accuracy: 1.0000\n",
      "Epoch 79/100\n",
      "16/16 [==============================] - 0s 867us/step - loss: 0.0611 - accuracy: 1.0000\n",
      "Epoch 80/100\n",
      "16/16 [==============================] - 0s 933us/step - loss: 0.0596 - accuracy: 1.0000\n",
      "Epoch 81/100\n",
      "16/16 [==============================] - 0s 867us/step - loss: 0.0582 - accuracy: 1.0000\n",
      "Epoch 82/100\n",
      "16/16 [==============================] - 0s 867us/step - loss: 0.0568 - accuracy: 1.0000\n",
      "Epoch 83/100\n",
      "16/16 [==============================] - 0s 867us/step - loss: 0.0555 - accuracy: 1.0000\n",
      "Epoch 84/100\n",
      "16/16 [==============================] - 0s 867us/step - loss: 0.0543 - accuracy: 1.0000\n",
      "Epoch 85/100\n",
      "16/16 [==============================] - 0s 934us/step - loss: 0.0530 - accuracy: 1.0000\n",
      "Epoch 86/100\n",
      "16/16 [==============================] - 0s 866us/step - loss: 0.0518 - accuracy: 1.0000\n",
      "Epoch 87/100\n",
      "16/16 [==============================] - 0s 867us/step - loss: 0.0507 - accuracy: 1.0000\n",
      "Epoch 88/100\n",
      "16/16 [==============================] - 0s 867us/step - loss: 0.0496 - accuracy: 1.0000\n",
      "Epoch 89/100\n",
      "16/16 [==============================] - 0s 933us/step - loss: 0.0485 - accuracy: 1.0000\n",
      "Epoch 90/100\n",
      "16/16 [==============================] - 0s 933us/step - loss: 0.0474 - accuracy: 1.0000\n",
      "Epoch 91/100\n",
      "16/16 [==============================] - 0s 867us/step - loss: 0.0465 - accuracy: 1.0000\n",
      "Epoch 92/100\n",
      "16/16 [==============================] - 0s 867us/step - loss: 0.0455 - accuracy: 1.0000\n",
      "Epoch 93/100\n",
      "16/16 [==============================] - 0s 867us/step - loss: 0.0446 - accuracy: 1.0000\n",
      "Epoch 94/100\n",
      "16/16 [==============================] - 0s 933us/step - loss: 0.0437 - accuracy: 1.0000\n",
      "Epoch 95/100\n",
      "16/16 [==============================] - 0s 933us/step - loss: 0.0428 - accuracy: 1.0000\n",
      "Epoch 96/100\n",
      "16/16 [==============================] - 0s 867us/step - loss: 0.0419 - accuracy: 1.0000\n",
      "Epoch 97/100\n",
      "16/16 [==============================] - 0s 867us/step - loss: 0.0412 - accuracy: 1.0000\n",
      "Epoch 98/100\n",
      "16/16 [==============================] - 0s 867us/step - loss: 0.0403 - accuracy: 1.0000\n",
      "Epoch 99/100\n",
      "16/16 [==============================] - 0s 867us/step - loss: 0.0395 - accuracy: 1.0000\n",
      "Epoch 100/100\n",
      "16/16 [==============================] - 0s 867us/step - loss: 0.0388 - accuracy: 1.0000\n"
     ]
    }
   ],
   "metadata": {}
  },
  {
   "cell_type": "code",
   "execution_count": 105,
   "source": [
    "plt.plot(h.history['accuracy'])\r\n",
    "plt.xlabel('epoch')\r\n",
    "plt.legend(['accuracy'])\r\n",
    "plt.title('accuracy')"
   ],
   "outputs": [
    {
     "output_type": "execute_result",
     "data": {
      "text/plain": [
       "Text(0.5, 1.0, 'accuracy')"
      ]
     },
     "metadata": {},
     "execution_count": 105
    },
    {
     "output_type": "display_data",
     "data": {
      "text/plain": [
       "<Figure size 432x288 with 1 Axes>"
      ],
      "image/png": "[encoded data removed]"
     },
     "metadata": {
      "needs_background": "light"
     }
    }
   ],
   "metadata": {}
  },
  {
   "cell_type": "code",
   "execution_count": 106,
   "source": [
    "plt.plot(h.history['loss'])\r\n",
    "plt.xlabel('epoch')\r\n",
    "plt.legend(['loss'])\r\n",
    "plt.title('loss')"
   ],
   "outputs": [
    {
     "output_type": "execute_result",
     "data": {
      "text/plain": [
       "Text(0.5, 1.0, 'loss')"
      ]
     },
     "metadata": {},
     "execution_count": 106
    },
    {
     "output_type": "display_data",
     "data": {
      "text/plain": [
       "<Figure size 432x288 with 1 Axes>"
      ],
      "image/png": "[encoded data removed]"
     },
     "metadata": {
      "needs_background": "light"
     }
    }
   ],
   "metadata": {}
  },
  {
   "cell_type": "code",
   "execution_count": 107,
   "source": [
    "def plot_decision_boundary(X, y, model):\r\n",
    "    x_span = np.linspace(min(X[:, 0]) - 0.25, max(X[:, 0]) + 0.25)\r\n",
    "    y_span = np.linspace(min(X[:, 1]) - 0.25, max(X[:, 1]) + 0.25)\r\n",
    "    # print(y_span)\r\n",
    "    xx, yy = np.meshgrid(x_span, y_span)\r\n",
    "    xx_,yy_ = xx.ravel(), yy.ravel()\r\n",
    "    # print(xx_)\r\n",
    "    # print(yy_)\r\n",
    "    grid = np.c_[xx_,yy_]\r\n",
    "    # print(grid)\r\n",
    "    pred_func = model.predict(grid)\r\n",
    "    z = pred_func.reshape(xx.shape)\r\n",
    "    plt.contourf(xx,yy,z)\r\n",
    "    plt.scatter(X[:n_pts,0], X[:n_pts,1])\r\n",
    "    plt.scatter(X[n_pts:,0], X[n_pts:,1])"
   ],
   "outputs": [],
   "metadata": {}
  },
  {
   "cell_type": "code",
   "execution_count": 110,
   "source": [
    "plot_decision_boundary(X, y, model)\r\n",
    "plt.scatter(X[:n_pts,0], X[:n_pts,1])\r\n",
    "plt.scatter(X[n_pts:,0], X[n_pts:,1])\r\n",
    "x = 0.3\r\n",
    "y = -0.1\r\n",
    "point = np.array([[x,y]])\r\n",
    "prediction = model.predict(point)\r\n",
    "plt.plot([x],[y], marker='o', markersize=10, color='red')\r\n",
    "print(prediction)"
   ],
   "outputs": [
    {
     "output_type": "stream",
     "name": "stdout",
     "text": [
      "[[0.9798069]]\n"
     ]
    },
    {
     "output_type": "display_data",
     "data": {
      "text/plain": [
       "<Figure size 432x288 with 1 Axes>"
      ],
      "image/png": "[encoded data removed]"
     },
     "metadata": {
      "needs_background": "light"
     }
    }
   ],
   "metadata": {}
  },
  {
   "cell_type": "code",
   "execution_count": null,
   "source": [],
   "outputs": [],
   "metadata": {}
  }
 ],
 "metadata": {
  "orig_nbformat": 4,
  "language_info": {
   "name": "python",
   "version": "3.9.6",
   "mimetype": "text/x-python",
   "codemirror_mode": {
    "name": "ipython",
    "version": 3
   },
   "pygments_lexer": "ipython3",
   "nbconvert_exporter": "python",
   "file_extension": ".py"
  },
  "kernelspec": {
   "name": "python3",
   "display_name": "Python 3.9.6 64-bit ('general_env': conda)"
  },
  "interpreter": {
   "hash": "eb1063525ce892d0c528674b1c1740d987616fa50929a74996de9e0faa31f077"
  }
 },
 "nbformat": 4,
 "nbformat_minor": 2
}