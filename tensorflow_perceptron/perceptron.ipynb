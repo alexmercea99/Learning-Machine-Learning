{
 "cells": [
  {
   "cell_type": "code",
   "execution_count": 1,
   "source": [
    "import numpy as np\r\n",
    "import matplotlib.pyplot as plt\r\n",
    "from tensorflow.keras import Sequential\r\n",
    "from tensorflow.keras.layers import Dense\r\n",
    "from tensorflow.keras.optimizers import Adam\r\n"
   ],
   "outputs": [],
   "metadata": {}
  },
  {
   "cell_type": "code",
   "execution_count": 2,
   "source": [
    "\r\n",
    "n_pts = 500\r\n",
    "np.random.seed(0)\r\n",
    "Xa = np.array([np.random.normal(13, 2, n_pts),\r\n",
    "               np.random.normal(12, 2, n_pts)]).T\r\n",
    "Xb = np.array([np.random.normal(8, 2, n_pts),\r\n",
    "               np.random.normal(6, 2, n_pts)]).T\r\n",
    "\r\n",
    "X = np.vstack((Xa, Xb))\r\n",
    "y = np.matrix(np.append(np.zeros(n_pts), np.ones(n_pts))).T\r\n",
    "\r\n",
    "plt.scatter(X[:n_pts,0], X[:n_pts,1])\r\n",
    "plt.scatter(X[n_pts:,0], X[n_pts:,1])"
   ],
   "outputs": [
    {
     "output_type": "execute_result",
     "data": {
      "text/plain": [
       "<matplotlib.collections.PathCollection at 0x1ab1f1e78c8>"
      ]
     },
     "metadata": {},
     "execution_count": 2
    },
    {
     "output_type": "display_data",
     "data": {
      "text/plain": [
       "<Figure size 432x288 with 1 Axes>"
      ],
      "image/png": "[encoded data removed]"
     },
     "metadata": {
      "needs_background": "light"
     }
    }
   ],
   "metadata": {}
  },
  {
   "cell_type": "code",
   "execution_count": 3,
   "source": [
    "model = Sequential()\r\n",
    "\r\n",
    "model.add(Dense(units=1, input_shape=(2,), activation='sigmoid'))\r\n",
    "adam = Adam(learning_rate = 0.1)\r\n",
    "model.compile(adam, loss='binary_crossentropy', metrics=['accuracy'])\r\n",
    "h = model.fit(x=X, y=y, verbose=1, batch_size=50, epochs= 100, shuffle='true')\r\n"
   ],
   "outputs": [
    {
     "output_type": "stream",
     "name": "stdout",
     "text": [
      "Epoch 1/100\n",
      "20/20 [==============================] - 0s 1ms/step - loss: 1.4178 - accuracy: 0.4330\n",
      "Epoch 2/100\n",
      "20/20 [==============================] - 0s 1ms/step - loss: 0.7129 - accuracy: 0.5930\n",
      "Epoch 3/100\n",
      "20/20 [==============================] - 0s 1ms/step - loss: 0.4476 - accuracy: 0.8700\n",
      "Epoch 4/100\n",
      "20/20 [==============================] - 0s 1ms/step - loss: 0.3733 - accuracy: 0.8900\n",
      "Epoch 5/100\n",
      "20/20 [==============================] - 0s 842us/step - loss: 0.3321 - accuracy: 0.8990\n",
      "Epoch 6/100\n",
      "20/20 [==============================] - 0s 1ms/step - loss: 0.2961 - accuracy: 0.9270\n",
      "Epoch 7/100\n",
      "20/20 [==============================] - 0s 1ms/step - loss: 0.2581 - accuracy: 0.9510\n",
      "Epoch 8/100\n",
      "20/20 [==============================] - 0s 1000us/step - loss: 0.2362 - accuracy: 0.9560\n",
      "Epoch 9/100\n",
      "20/20 [==============================] - 0s 1ms/step - loss: 0.2149 - accuracy: 0.9610\n",
      "Epoch 10/100\n",
      "20/20 [==============================] - 0s 1ms/step - loss: 0.2001 - accuracy: 0.9610\n",
      "Epoch 11/100\n",
      "20/20 [==============================] - 0s 1ms/step - loss: 0.1861 - accuracy: 0.9660\n",
      "Epoch 12/100\n",
      "20/20 [==============================] - 0s 1ms/step - loss: 0.1734 - accuracy: 0.9650\n",
      "Epoch 13/100\n",
      "20/20 [==============================] - 0s 1000us/step - loss: 0.1656 - accuracy: 0.9690\n",
      "Epoch 14/100\n",
      "20/20 [==============================] - 0s 947us/step - loss: 0.1565 - accuracy: 0.9700\n",
      "Epoch 15/100\n",
      "20/20 [==============================] - 0s 1ms/step - loss: 0.1497 - accuracy: 0.9710\n",
      "Epoch 16/100\n",
      "20/20 [==============================] - 0s 947us/step - loss: 0.1459 - accuracy: 0.9660\n",
      "Epoch 17/100\n",
      "20/20 [==============================] - 0s 1ms/step - loss: 0.1390 - accuracy: 0.9700\n",
      "Epoch 18/100\n",
      "20/20 [==============================] - 0s 1ms/step - loss: 0.1316 - accuracy: 0.9750\n",
      "Epoch 19/100\n",
      "20/20 [==============================] - 0s 1ms/step - loss: 0.1280 - accuracy: 0.9740\n",
      "Epoch 20/100\n",
      "20/20 [==============================] - 0s 1000us/step - loss: 0.1246 - accuracy: 0.9780\n",
      "Epoch 21/100\n",
      "20/20 [==============================] - 0s 1ms/step - loss: 0.1228 - accuracy: 0.9670\n",
      "Epoch 22/100\n",
      "20/20 [==============================] - 0s 1000us/step - loss: 0.1190 - accuracy: 0.9730\n",
      "Epoch 23/100\n",
      "20/20 [==============================] - 0s 1ms/step - loss: 0.1148 - accuracy: 0.9730\n",
      "Epoch 24/100\n",
      "20/20 [==============================] - 0s 1ms/step - loss: 0.1086 - accuracy: 0.9780\n",
      "Epoch 25/100\n",
      "20/20 [==============================] - 0s 1ms/step - loss: 0.1073 - accuracy: 0.9770\n",
      "Epoch 26/100\n",
      "20/20 [==============================] - 0s 1ms/step - loss: 0.1058 - accuracy: 0.9730\n",
      "Epoch 27/100\n",
      "20/20 [==============================] - 0s 1ms/step - loss: 0.1055 - accuracy: 0.9750\n",
      "Epoch 28/100\n",
      "20/20 [==============================] - 0s 1ms/step - loss: 0.1018 - accuracy: 0.9740\n",
      "Epoch 29/100\n",
      "20/20 [==============================] - 0s 1ms/step - loss: 0.1018 - accuracy: 0.9750\n",
      "Epoch 30/100\n",
      "20/20 [==============================] - 0s 947us/step - loss: 0.1049 - accuracy: 0.9660\n",
      "Epoch 31/100\n",
      "20/20 [==============================] - 0s 1ms/step - loss: 0.0985 - accuracy: 0.9700\n",
      "Epoch 32/100\n",
      "20/20 [==============================] - 0s 1000us/step - loss: 0.1026 - accuracy: 0.9720\n",
      "Epoch 33/100\n",
      "20/20 [==============================] - 0s 1ms/step - loss: 0.0954 - accuracy: 0.9740\n",
      "Epoch 34/100\n",
      "20/20 [==============================] - 0s 947us/step - loss: 0.0929 - accuracy: 0.9740\n",
      "Epoch 35/100\n",
      "20/20 [==============================] - 0s 1ms/step - loss: 0.0889 - accuracy: 0.9760\n",
      "Epoch 36/100\n",
      "20/20 [==============================] - 0s 1000us/step - loss: 0.0900 - accuracy: 0.9790\n",
      "Epoch 37/100\n",
      "20/20 [==============================] - 0s 1ms/step - loss: 0.0868 - accuracy: 0.9810\n",
      "Epoch 38/100\n",
      "20/20 [==============================] - 0s 947us/step - loss: 0.0896 - accuracy: 0.9790\n",
      "Epoch 39/100\n",
      "20/20 [==============================] - 0s 894us/step - loss: 0.0852 - accuracy: 0.9750\n",
      "Epoch 40/100\n",
      "20/20 [==============================] - 0s 1000us/step - loss: 0.0840 - accuracy: 0.9750\n",
      "Epoch 41/100\n",
      "20/20 [==============================] - 0s 842us/step - loss: 0.0833 - accuracy: 0.9730\n",
      "Epoch 42/100\n",
      "20/20 [==============================] - 0s 1ms/step - loss: 0.0897 - accuracy: 0.9760\n",
      "Epoch 43/100\n",
      "20/20 [==============================] - 0s 1ms/step - loss: 0.0830 - accuracy: 0.9770\n",
      "Epoch 44/100\n",
      "20/20 [==============================] - 0s 895us/step - loss: 0.0836 - accuracy: 0.9720\n",
      "Epoch 45/100\n",
      "20/20 [==============================] - 0s 1000us/step - loss: 0.0869 - accuracy: 0.9710\n",
      "Epoch 46/100\n",
      "20/20 [==============================] - 0s 947us/step - loss: 0.0790 - accuracy: 0.9740\n",
      "Epoch 47/100\n",
      "20/20 [==============================] - 0s 947us/step - loss: 0.0792 - accuracy: 0.9740\n",
      "Epoch 48/100\n",
      "20/20 [==============================] - 0s 842us/step - loss: 0.0809 - accuracy: 0.9740\n",
      "Epoch 49/100\n",
      "20/20 [==============================] - 0s 947us/step - loss: 0.0816 - accuracy: 0.9750\n",
      "Epoch 50/100\n",
      "20/20 [==============================] - 0s 947us/step - loss: 0.0815 - accuracy: 0.9720\n",
      "Epoch 51/100\n",
      "20/20 [==============================] - 0s 842us/step - loss: 0.0766 - accuracy: 0.9770\n",
      "Epoch 52/100\n",
      "20/20 [==============================] - 0s 1ms/step - loss: 0.0777 - accuracy: 0.9750\n",
      "Epoch 53/100\n",
      "20/20 [==============================] - 0s 947us/step - loss: 0.0801 - accuracy: 0.9760\n",
      "Epoch 54/100\n",
      "20/20 [==============================] - 0s 948us/step - loss: 0.0756 - accuracy: 0.9780\n",
      "Epoch 55/100\n",
      "20/20 [==============================] - 0s 1ms/step - loss: 0.0774 - accuracy: 0.9750\n",
      "Epoch 56/100\n",
      "20/20 [==============================] - 0s 1000us/step - loss: 0.0766 - accuracy: 0.9790\n",
      "Epoch 57/100\n",
      "20/20 [==============================] - 0s 895us/step - loss: 0.0766 - accuracy: 0.9750\n",
      "Epoch 58/100\n",
      "20/20 [==============================] - 0s 1000us/step - loss: 0.0748 - accuracy: 0.9770\n",
      "Epoch 59/100\n",
      "20/20 [==============================] - 0s 1ms/step - loss: 0.0732 - accuracy: 0.9770\n",
      "Epoch 60/100\n",
      "20/20 [==============================] - 0s 1ms/step - loss: 0.0783 - accuracy: 0.9750\n",
      "Epoch 61/100\n",
      "20/20 [==============================] - 0s 1ms/step - loss: 0.0716 - accuracy: 0.9790\n",
      "Epoch 62/100\n",
      "20/20 [==============================] - 0s 1000us/step - loss: 0.0718 - accuracy: 0.9770\n",
      "Epoch 63/100\n",
      "20/20 [==============================] - 0s 1000us/step - loss: 0.0719 - accuracy: 0.9780\n",
      "Epoch 64/100\n",
      "20/20 [==============================] - 0s 947us/step - loss: 0.0781 - accuracy: 0.9720\n",
      "Epoch 65/100\n",
      "20/20 [==============================] - 0s 1ms/step - loss: 0.0757 - accuracy: 0.9740\n",
      "Epoch 66/100\n",
      "20/20 [==============================] - 0s 1ms/step - loss: 0.0790 - accuracy: 0.9700\n",
      "Epoch 67/100\n",
      "20/20 [==============================] - 0s 948us/step - loss: 0.0760 - accuracy: 0.9730\n",
      "Epoch 68/100\n",
      "20/20 [==============================] - 0s 1ms/step - loss: 0.0715 - accuracy: 0.9770\n",
      "Epoch 69/100\n",
      "20/20 [==============================] - 0s 1ms/step - loss: 0.0700 - accuracy: 0.9790\n",
      "Epoch 70/100\n",
      "20/20 [==============================] - 0s 1000us/step - loss: 0.0697 - accuracy: 0.9800\n",
      "Epoch 71/100\n",
      "20/20 [==============================] - 0s 895us/step - loss: 0.0741 - accuracy: 0.9780\n",
      "Epoch 72/100\n",
      "20/20 [==============================] - 0s 1ms/step - loss: 0.0705 - accuracy: 0.9750\n",
      "Epoch 73/100\n",
      "20/20 [==============================] - 0s 948us/step - loss: 0.0741 - accuracy: 0.9730\n",
      "Epoch 74/100\n",
      "20/20 [==============================] - 0s 947us/step - loss: 0.0792 - accuracy: 0.9720\n",
      "Epoch 75/100\n",
      "20/20 [==============================] - 0s 948us/step - loss: 0.0762 - accuracy: 0.9730\n",
      "Epoch 76/100\n",
      "20/20 [==============================] - 0s 947us/step - loss: 0.0689 - accuracy: 0.9790\n",
      "Epoch 77/100\n",
      "20/20 [==============================] - 0s 895us/step - loss: 0.0766 - accuracy: 0.9680\n",
      "Epoch 78/100\n",
      "20/20 [==============================] - 0s 1ms/step - loss: 0.0665 - accuracy: 0.9780\n",
      "Epoch 79/100\n",
      "20/20 [==============================] - 0s 947us/step - loss: 0.0681 - accuracy: 0.9780\n",
      "Epoch 80/100\n",
      "20/20 [==============================] - 0s 948us/step - loss: 0.0685 - accuracy: 0.9770\n",
      "Epoch 81/100\n",
      "20/20 [==============================] - 0s 895us/step - loss: 0.0717 - accuracy: 0.9760\n",
      "Epoch 82/100\n",
      "20/20 [==============================] - 0s 895us/step - loss: 0.0677 - accuracy: 0.9770\n",
      "Epoch 83/100\n",
      "20/20 [==============================] - 0s 895us/step - loss: 0.0675 - accuracy: 0.9780\n",
      "Epoch 84/100\n",
      "20/20 [==============================] - 0s 947us/step - loss: 0.0670 - accuracy: 0.9790\n",
      "Epoch 85/100\n",
      "20/20 [==============================] - 0s 948us/step - loss: 0.0701 - accuracy: 0.9750\n",
      "Epoch 86/100\n",
      "20/20 [==============================] - 0s 842us/step - loss: 0.0699 - accuracy: 0.9770\n",
      "Epoch 87/100\n",
      "20/20 [==============================] - 0s 842us/step - loss: 0.0704 - accuracy: 0.9690\n",
      "Epoch 88/100\n",
      "20/20 [==============================] - 0s 947us/step - loss: 0.0688 - accuracy: 0.9750\n",
      "Epoch 89/100\n",
      "20/20 [==============================] - 0s 948us/step - loss: 0.0676 - accuracy: 0.9760\n",
      "Epoch 90/100\n",
      "20/20 [==============================] - 0s 1ms/step - loss: 0.0674 - accuracy: 0.9770\n",
      "Epoch 91/100\n",
      "20/20 [==============================] - 0s 1ms/step - loss: 0.0730 - accuracy: 0.9710\n",
      "Epoch 92/100\n",
      "20/20 [==============================] - 0s 2ms/step - loss: 0.0688 - accuracy: 0.9750\n",
      "Epoch 93/100\n",
      "20/20 [==============================] - 0s 1ms/step - loss: 0.0703 - accuracy: 0.9740\n",
      "Epoch 94/100\n",
      "20/20 [==============================] - 0s 1000us/step - loss: 0.0685 - accuracy: 0.9740\n",
      "Epoch 95/100\n",
      "20/20 [==============================] - 0s 895us/step - loss: 0.0694 - accuracy: 0.9740\n",
      "Epoch 96/100\n",
      "20/20 [==============================] - 0s 895us/step - loss: 0.0670 - accuracy: 0.9780\n",
      "Epoch 97/100\n",
      "20/20 [==============================] - 0s 947us/step - loss: 0.0735 - accuracy: 0.9740\n",
      "Epoch 98/100\n",
      "20/20 [==============================] - 0s 1ms/step - loss: 0.0704 - accuracy: 0.9720\n",
      "Epoch 99/100\n",
      "20/20 [==============================] - 0s 895us/step - loss: 0.0705 - accuracy: 0.9740\n",
      "Epoch 100/100\n",
      "20/20 [==============================] - 0s 895us/step - loss: 0.0727 - accuracy: 0.9700\n"
     ]
    }
   ],
   "metadata": {}
  },
  {
   "cell_type": "code",
   "execution_count": 5,
   "source": [
    "plt.plot(h.history['accuracy'])\r\n",
    "plt.title('Accuracy')\r\n",
    "plt.xlabel('epoch')\r\n",
    "plt.legend(['accuracy'])"
   ],
   "outputs": [
    {
     "output_type": "execute_result",
     "data": {
      "text/plain": [
       "<matplotlib.legend.Legend at 0x1ab8d5dc5c8>"
      ]
     },
     "metadata": {},
     "execution_count": 5
    },
    {
     "output_type": "display_data",
     "data": {
      "text/plain": [
       "<Figure size 432x288 with 1 Axes>"
      ],
      "image/png": "[encoded data removed]"
     },
     "metadata": {
      "needs_background": "light"
     }
    }
   ],
   "metadata": {}
  },
  {
   "cell_type": "code",
   "execution_count": null,
   "source": [
    "plt.plot(h.history['loss'])\r\n",
    "plt.title('Loss')\r\n",
    "plt.xlabel('loss')\r\n",
    "plt.legend(['loss'])"
   ],
   "outputs": [],
   "metadata": {}
  }
 ],
 "metadata": {
  "orig_nbformat": 4,
  "language_info": {
   "name": "python",
   "version": "3.7.10",
   "mimetype": "text/x-python",
   "codemirror_mode": {
    "name": "ipython",
    "version": 3
   },
   "pygments_lexer": "ipython3",
   "nbconvert_exporter": "python",
   "file_extension": ".py"
  },
  "kernelspec": {
   "name": "python3",
   "display_name": "Python 3.7.10 64-bit ('base': conda)"
  },
  "interpreter": {
   "hash": "cc897af4fc6401c11359697fcbb52d9351578d8478d87d3dbab7c5724e632931"
  }
 },
 "nbformat": 4,
 "nbformat_minor": 2
}