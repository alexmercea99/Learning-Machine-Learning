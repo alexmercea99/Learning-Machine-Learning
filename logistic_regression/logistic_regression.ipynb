{
 "cells": [
  {
   "cell_type": "code",
   "execution_count": 105,
   "source": [
    "import numpy as np\r\n",
    "import matplotlib.pyplot as plt"
   ],
   "outputs": [],
   "metadata": {}
  },
  {
   "cell_type": "code",
   "execution_count": 106,
   "source": [
    "def draw(x1,x2):\r\n",
    "    ln = plt.plot(x1,x2, '-')\r\n",
    "    plt.pause(0.0001)\r\n",
    "    ln[0].remove()\r\n",
    "\r\n",
    "def sigmoid(score):\r\n",
    "    return 1/(1+ np.exp(-score))\r\n",
    "\r\n",
    "def calculate_error(line_parameters, points, y):\r\n",
    "    m = points.shape[0]\r\n",
    "    p = sigmoid(points*line_parameters)\r\n",
    "    cross_entropy = -(1/m)*(np.log(p).T * y + np.log(1-p).T*(1-y))\r\n",
    "    return cross_entropy\r\n",
    "\r\n",
    "def gradient_descent(line_parameters, points, y, alpha):\r\n",
    "    m = points.shape[0]\r\n",
    "    for i in range(500):\r\n",
    "        p = sigmoid(points * line_parameters)\r\n",
    "        gradient = (points.T * (p - y))*(alpha/m)\r\n",
    "        line_parameters = line_parameters - gradient\r\n",
    "        w1 = line_parameters.item(0)\r\n",
    "        w2 = line_parameters.item(1)\r\n",
    "        b = line_parameters.item(2)\r\n",
    "        x1 = np.array([points[:, 0].min(),points[:,0].max()])\r\n",
    "        x2 = -b / w2 + x1 * (-w1 /w2)\r\n",
    "    draw(x1,x2)\r\n",
    "    "
   ],
   "outputs": [],
   "metadata": {}
  },
  {
   "cell_type": "code",
   "execution_count": 107,
   "source": [
    "n_pts = 200\r\n",
    "# np.random.seed(0)\r\n",
    "bias = np.ones(n_pts)\r\n",
    "top_region = np.array([np.random.normal(10, 2, n_pts), np.random.normal(10, 2, n_pts),bias]).T\r\n",
    "bottom_region = np.array([np.random.normal(5,2, n_pts), np.random.normal(6, 2, n_pts),bias]).T\r\n",
    "all_points = np.vstack((top_region,bottom_region))\r\n",
    "# w1 = -0.2\r\n",
    "# w2 = -0.1\r\n",
    "# b = 3.5\r\n",
    "line_parameters = np.matrix([np.zeros(3)]).T\r\n",
    "# x1 = np.array([bottom_region[:, 0].min(),top_region[:,0].max()])\r\n",
    "# x2 = -b / w2 + x1 * (-w1 /w2)\r\n",
    "# print(x1,x2)\r\n",
    "# print(all_points.shape)\r\n",
    "# print(line_parameters.shape)\r\n",
    "linear_combination =all_points*line_parameters\r\n",
    "probabilities = sigmoid(linear_combination)\r\n",
    "y = np.array([np.zeros(n_pts), np.ones(n_pts)]).reshape(n_pts*2,1)\r\n",
    "# print(y)\r\n"
   ],
   "outputs": [],
   "metadata": {}
  },
  {
   "cell_type": "code",
   "execution_count": 108,
   "source": [
    "_, ax = plt.subplots(figsize = (4,4))\r\n",
    "ax.scatter(top_region[:, 0], top_region[:, 1], color = 'red')\r\n",
    "ax.scatter(bottom_region[:, 0], bottom_region[:, 1], color = 'blue')\r\n",
    "# draw(x1,x2)\r\n",
    "gradient_descent(line_parameters, all_points, y, 0.06)\r\n",
    "plt.show()"
   ],
   "outputs": [
    {
     "output_type": "display_data",
     "data": {
      "text/plain": [
       "<Figure size 288x288 with 1 Axes>"
      ],
      "image/png": "[encoded data removed]"
     },
     "metadata": {
      "needs_background": "light"
     }
    }
   ],
   "metadata": {}
  },
  {
   "cell_type": "code",
   "execution_count": 109,
   "source": [
    "calculate_error(line_parameters, all_points, y)"
   ],
   "outputs": [
    {
     "output_type": "execute_result",
     "data": {
      "text/plain": [
       "matrix([[0.69314718]])"
      ]
     },
     "metadata": {},
     "execution_count": 109
    }
   ],
   "metadata": {}
  }
 ],
 "metadata": {
  "orig_nbformat": 4,
  "language_info": {
   "name": "python",
   "version": "3.7.10",
   "mimetype": "text/x-python",
   "codemirror_mode": {
    "name": "ipython",
    "version": 3
   },
   "pygments_lexer": "ipython3",
   "nbconvert_exporter": "python",
   "file_extension": ".py"
  },
  "kernelspec": {
   "name": "python3",
   "display_name": "Python 3.7.10 64-bit ('base': conda)"
  },
  "interpreter": {
   "hash": "cc897af4fc6401c11359697fcbb52d9351578d8478d87d3dbab7c5724e632931"
  }
 },
 "nbformat": 4,
 "nbformat_minor": 2
}